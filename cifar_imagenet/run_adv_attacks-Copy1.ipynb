{
 "cells": [
  {
   "cell_type": "code",
   "execution_count": null,
   "metadata": {},
   "outputs": [
    {
     "name": "stdout",
     "output_type": "stream",
     "text": [
      "==> creating model 'hopreresnet_restart'\n",
      "==> Resuming from checkpoint..\n",
      "==> Load the clean image\n",
      "Batch size of the test set:  100\n",
      "/tanresults/experiments-horesnet/cifar10-hopreresnet_restart20-basicblock-eta-1.0-y-baolr-pgd-seed-1/model_best.pth.tar\n",
      "Number of correctly classified images:  3124\n",
      "[(10000, 3, 32, 32), (10000, 3, 32, 32), (10000, 3, 32, 32), (10000,), (10000,)]\n",
      " ==> creating model 'hopreresnet_restart'\n",
      "==> Resuming from checkpoint..\n",
      "==> Load the clean image\n",
      "Batch size of the test set:  100\n",
      "/tanresults/experiments-horesnet/cifar10-hopreresnet_restart20-basicblock-eta-1.0-y-baolr-pgd-seed-2/model_best.pth.tar\n",
      "Number of correctly classified images:  3144\n",
      "[(10000, 3, 32, 32), (10000, 3, 32, 32), (10000, 3, 32, 32), (10000,), (10000,)]\n",
      " ==> creating model 'hopreresnet_restart'\n",
      "==> Resuming from checkpoint..\n",
      "==> Load the clean image\n",
      "Batch size of the test set:  100\n",
      "/tanresults/experiments-horesnet/cifar10-hopreresnet_restart20-basicblock-eta-1.0-y-baolr-pgd-seed-3/model_best.pth.tar\n",
      "Number of correctly classified images:  3142\n",
      "[(10000, 3, 32, 32), (10000, 3, 32, 32), (10000, 3, 32, 32), (10000,), (10000,)]\n",
      " ==> creating model 'preresnet'\n",
      "==> Resuming from checkpoint..\n",
      "==> Load the clean image\n",
      "Batch size of the test set:  100\n",
      "/tanresults/experiments-horesnet/cifar10-preresnet20-basicblock-eta-1.0-x-baolr-pgd-seed-1/model_best.pth.tar\n",
      "Number of correctly classified images:  3248\n",
      "[(10000, 3, 32, 32), (10000, 3, 32, 32), (10000, 3, 32, 32), (10000,), (10000,)]\n",
      " ==> creating model 'preresnet'\n",
      "==> Resuming from checkpoint..\n",
      "==> Load the clean image\n",
      "Batch size of the test set:  100\n",
      "/tanresults/experiments-horesnet/cifar10-preresnet20-basicblock-eta-1.0-x-baolr-pgd-seed-2/model_best.pth.tar\n",
      "Number of correctly classified images:  3192\n",
      "[(10000, 3, 32, 32), (10000, 3, 32, 32), (10000, 3, 32, 32), (10000,), (10000,)]\n",
      " ==> creating model 'preresnet'\n",
      "==> Resuming from checkpoint..\n",
      "==> Load the clean image\n",
      "Batch size of the test set:  100\n",
      "/tanresults/experiments-horesnet/cifar10-preresnet20-basicblock-eta-1.0-x-baolr-pgd-seed-3/model_best.pth.tar\n",
      "Number of correctly classified images:  3194\n",
      "[(10000, 3, 32, 32), (10000, 3, 32, 32), (10000, 3, 32, 32), (10000,), (10000,)]\n",
      " ==> creating model 'preresnet'\n",
      "==> Resuming from checkpoint..\n",
      "==> Load the clean image\n",
      "Batch size of the test set:  100\n"
     ]
    }
   ],
   "source": [
    "%run -p Attack_Foolbox_ResNet20.py --checkpoint \"/tanresults/experiments-horesnet/cifar10-nagpreresnet20-basicblock-eta-0.5-x-baolr-pgd-seed-0/model_best.pth.tar\" -a \"nagpreresnet\" --block-name \"basicblock\" --feature_vec \"y\" --dataset \"cifar10\" --eta 0.5 --depth 20 --method fgsm --epsilon 0.031\n",
    "%run -p Attack_Foolbox_ResNet20.py --checkpoint \"/tanresults/experiments-horesnet/cifar10-nagpreresnet20-basicblock-eta-0.5-x-baolr-pgd-seed-1/model_best.pth.tar\" -a \"nagpreresnet\" --block-name \"basicblock\" --feature_vec \"y\" --dataset \"cifar10\" --eta 0.5 --depth 20 --method fgsm --epsilon 0.031\n",
    "%run -p Attack_Foolbox_ResNet20.py --checkpoint \"/tanresults/experiments-horesnet/cifar10-nagpreresnet20-basicblock-eta-0.5-x-baolr-pgd-seed-2/model_best.pth.tar\" -a \"nagpreresnet\" --block-name \"basicblock\" --feature_vec \"y\" --dataset \"cifar10\" --eta 0.5 --depth 20 --method fgsm --epsilon 0.031\n",
    "%run -p Attack_Foolbox_ResNet20.py --checkpoint \"/tanresults/experiments-horesnet/cifar10-nagpreresnet20-basicblock-eta-0.5-x-baolr-pgd-seed-3/model_best.pth.tar\" -a \"nagpreresnet\" --block-name \"basicblock\" --feature_vec \"y\" --dataset \"cifar10\" --eta 0.5 --depth 20 --method fgsm --epsilon 0.031\n",
    "%run -p Attack_Foolbox_ResNet20.py --checkpoint \"/tanresults/experiments-horesnet/cifar10-nagpreresnet20-basicblock-eta-0.5-x-baolr-pgd-seed-4/model_best.pth.tar\" -a \"nagpreresnet\" --block-name \"basicblock\" --feature_vec \"y\" --dataset \"cifar10\" --eta 0.5 --depth 20 --method fgsm --epsilon 0.031\n",
    "\n",
    "%run -p Attack_Foolbox_ResNet20.py --checkpoint \"/tanresults/experiments-horesnet/cifar10-preresnet20-basicblock-eta-1.0-x-baolr-pgd-seed-1/model_best.pth.tar\" -a \"preresnet\" --block-name \"basicblock\" --feature_vec \"x\" --dataset \"cifar10\" --eta 1.0 --depth 20 --method fgsm --epsilon 0.031\n",
    "%run -p Attack_Foolbox_ResNet20.py --checkpoint \"/tanresults/experiments-horesnet/cifar10-preresnet20-basicblock-eta-1.0-x-baolr-pgd-seed-2/model_best.pth.tar\" -a \"preresnet\" --block-name \"basicblock\" --feature_vec \"x\" --dataset \"cifar10\" --eta 1.0 --depth 20 --method fgsm --epsilon 0.031\n",
    "%run -p Attack_Foolbox_ResNet20.py --checkpoint \"/tanresults/experiments-horesnet/cifar10-preresnet20-basicblock-eta-1.0-x-baolr-pgd-seed-3/model_best.pth.tar\" -a \"preresnet\" --block-name \"basicblock\" --feature_vec \"x\" --dataset \"cifar10\" --eta 1.0 --depth 20 --method fgsm --epsilon 0.031\n",
    "%run -p Attack_Foolbox_ResNet20.py --checkpoint \"/tanresults/experiments-horesnet/cifar10-preresnet20-basicblock-eta-1.0-x-baolr-pgd-seed-4/model_best.pth.tar\" -a \"preresnet\" --block-name \"basicblock\" --feature_vec \"x\" --dataset \"cifar10\" --eta 1.0 --depth 20 --method fgsm --epsilon 0.031\n",
    "#\n",
    "#\n",
    "#"
   ]
  }
 ],
 "metadata": {
  "kernelspec": {
   "display_name": "Python 3",
   "language": "python",
   "name": "python3"
  },
  "language_info": {
   "codemirror_mode": {
    "name": "ipython",
    "version": 3
   },
   "file_extension": ".py",
   "mimetype": "text/x-python",
   "name": "python",
   "nbconvert_exporter": "python",
   "pygments_lexer": "ipython3",
   "version": "3.6.9"
  }
 },
 "nbformat": 4,
 "nbformat_minor": 4
}
