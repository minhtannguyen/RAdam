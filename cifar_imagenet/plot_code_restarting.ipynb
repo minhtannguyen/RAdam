{
 "cells": [
  {
   "cell_type": "code",
   "execution_count": 1,
   "metadata": {},
   "outputs": [],
   "source": [
    "import os\n",
    "\n",
    "import numpy as np\n",
    "import matplotlib.pyplot as plt\n",
    "from matplotlib import rcParams\n",
    "rcParams.update({'figure.autolayout': True})\n",
    " \n",
    "import seaborn as sns\n",
    "import json\n",
    "import pandas as pd\n",
    "\n",
    "from IPython.core.debugger import Tracer"
   ]
  },
  {
   "cell_type": "code",
   "execution_count": 2,
   "metadata": {},
   "outputs": [],
   "source": [
    "def make_dataframe(filename, trial_id, stride = 1, stop_point=500):\n",
    "    with open(filename) as jfile:\n",
    "        dat = json.load(jfile)\n",
    "    for i in range(len(dat)):\n",
    "        dat[i] = [trial_id] + dat[i]\n",
    "    stop_point = min(stop_point, len(dat)-5)\n",
    "    dat = dat[:stop_point:stride]\n",
    "    df = pd.DataFrame(dat, columns=['trial_id','wall_time', 'step', 'value'])\n",
    "    return df"
   ]
  },
  {
   "cell_type": "code",
   "execution_count": 3,
   "metadata": {},
   "outputs": [],
   "source": [
    "###############################################################\n",
    "#### Epoch time for unconditional FFJORD on CIFAR10 ####\n",
    "###############################################################\n",
    "\n",
    "save_dir = './figures'\n",
    "save_name = 'train_loss_preact1001.pdf'\n",
    "\n",
    "#sgd\n",
    "sgd = ['./data4plots/run-preresnet1001-sgd-0_train_loss_preresnet20_srsgd-tag-train_loss.json',\n",
    "                        './data4plots/run-preresnet1001-sgd-1_train_loss_preresnet20_srsgd-tag-train_loss.json',\n",
    "                        './data4plots/run-preresnet1001-sgd-2_train_loss_preresnet20_srsgd-tag-train_loss.json',\n",
    "                        './data4plots/run-preresnet1001-sgd-3_train_loss_preresnet20_srsgd-tag-train_loss.json',\n",
    "                        './data4plots/run-preresnet1001-sgd-4_train_loss_preresnet20_srsgd-tag-train_loss.json']\n",
    "keys_sgd = ['run0','run1','run2', 'run3','run4']\n",
    "id_sgd = 'SGD'\n",
    "stop_point_sgd = 500\n",
    "\n",
    "# srsgd\n",
    "srsgd = ['./data4plots/run-preresnet1001-srsgd-0_train_loss_preresnet20_srsgd-tag-train_loss.json',\n",
    "                        './data4plots/run-preresnet1001-srsgd-1_train_loss_preresnet20_srsgd-tag-train_loss.json',\n",
    "                        './data4plots/run-preresnet1001-srsgd-2_train_loss_preresnet20_srsgd-tag-train_loss.json',\n",
    "                        './data4plots/run-preresnet1001-srsgd-3_train_loss_preresnet20_srsgd-tag-train_loss.json',\n",
    "                        './data4plots/run-preresnet1001-srsgd-4_train_loss_preresnet20_srsgd-tag-train_loss.json']\n",
    "keys_srsgd = ['run0','run1','run2', 'run3','run4']\n",
    "id_srsgd = 'SRSGD'\n",
    "stop_point_srsgd = 500"
   ]
  },
  {
   "cell_type": "code",
   "execution_count": 7,
   "metadata": {},
   "outputs": [
    {
     "name": "stdout",
     "output_type": "stream",
     "text": [
      "sgd\n",
      "0.0054761492647230625\n",
      "0.00021070415590743972\n",
      "srsgd\n",
      "0.0012288142694160341\n",
      "4.016246350364669e-05\n"
     ]
    },
    {
     "data": {
      "image/png": "[encoded data removed]",
      "text/plain": [
       "<Figure size 432x288 with 1 Axes>"
      ]
     },
     "metadata": {},
     "output_type": "display_data"
    }
   ],
   "source": [
    "sns.set(style=\"darkgrid\")\n",
    "def plot_line(file_names, keys, trial_id, stride=1, stop_point=500, color=None):\n",
    "    df = []\n",
    "    df_min = []\n",
    "    for fn in file_names:\n",
    "        df.append(make_dataframe(fn, trial_id, stride, stop_point=stop_point))\n",
    "        stop_indx = min(500, len(df[-1]['value']))\n",
    "        df_min.append(min(df[-1]['value'][:stop_indx]))\n",
    "        # print(np.argmin(df[-1]['value'][:stop_indx]))\n",
    "    df = pd.concat(df, keys=keys)\n",
    "    sns_plot = sns.lineplot(x=\"step\", y=\"value\", data=df, label=trial_id, color=color)\n",
    "    return sns_plot, df_min\n",
    "\n",
    "# sns_plot, df_min_ccnf = plot_line(file_names_ccnf_bs900, keys_ccnf_bs900, id_ccnf_bs900, stride=10, stop_point=stop_point_ccnf_bs900, color='red')\n",
    "# sns_plot, df_min_info = plot_line(file_names_info_bs900, keys_info_bs900, id_info_bs900, stride=10, stop_point=stop_point_info_bs900, color='green')\n",
    "sns_plot, min_sgd = plot_line(sgd, keys_sgd, id_sgd, stride=1, stop_point=stop_point_sgd, color='red')\n",
    "sns_plot, min_srsgd = plot_line(srsgd, keys_srsgd, id_srsgd, stride=1, stop_point=stop_point_srsgd, color='blue')\n",
    "#sns_plot, df_min_infotune = plot_line(file_names_infotune_bs900, keys_infotune_bs900, id_infotune_bs900, stride=10, stop_point=stop_point_infotune_bs900, color='orange')\n",
    "\n",
    "print('sgd')\n",
    "print(np.mean(min_sgd))\n",
    "print(np.std(min_sgd))\n",
    "\n",
    "print('srsgd')\n",
    "print(np.mean(min_srsgd))\n",
    "print(np.std(min_srsgd))\n",
    "\n",
    "sns_plot.set_xlabel('Epoch', fontsize = 16)\n",
    "sns_plot.set_ylabel('Train Loss', fontsize = 16)\n",
    "sns_plot.set(xscale=\"log\", yscale=\"log\")\n",
    "#sns_plot.set_xlim(0,380)\n",
    "#sns_plot.set_ylim(0.2,0.6)\n",
    "sns_plot.legend().set_visible(True)\n",
    "\n",
    "fig = sns_plot.get_figure()\n",
    "fig.savefig(os.path.join(save_dir, save_name))"
   ]
  },
  {
   "cell_type": "code",
   "execution_count": null,
   "metadata": {},
   "outputs": [],
   "source": []
  }
 ],
 "metadata": {
  "kernelspec": {
   "display_name": "Python 3",
   "language": "python",
   "name": "python3"
  },
  "language_info": {
   "codemirror_mode": {
    "name": "ipython",
    "version": 3
   },
   "file_extension": ".py",
   "mimetype": "text/x-python",
   "name": "python",
   "nbconvert_exporter": "python",
   "pygments_lexer": "ipython3",
   "version": "3.6.9"
  }
 },
 "nbformat": 4,
 "nbformat_minor": 4
}
