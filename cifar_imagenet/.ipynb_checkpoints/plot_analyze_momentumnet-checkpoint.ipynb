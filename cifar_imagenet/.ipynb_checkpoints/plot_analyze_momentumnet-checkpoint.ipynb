{
 "cells": [
  {
   "cell_type": "code",
   "execution_count": 1,
   "metadata": {},
   "outputs": [],
   "source": [
    "from __future__ import print_function\n",
    "\n",
    "import argparse\n",
    "import os\n",
    "import shutil\n",
    "import time\n",
    "import random\n",
    "\n",
    "import matplotlib\n",
    "import matplotlib.pyplot as plt\n",
    "import numpy as np\n",
    "\n",
    "import torch\n",
    "import torch.nn as nn\n",
    "import torch.nn.parallel\n",
    "import torch.backends.cudnn as cudnn\n",
    "import torch.optim as optim\n",
    "import torch.utils.data as data\n",
    "import torchvision.transforms as transforms\n",
    "import torchvision.datasets as datasets\n",
    "import models_analysis.cifar as models\n",
    "\n",
    "from utils import Bar, Logger, AverageMeter, accuracy, mkdir_p, savefig\n",
    "from utils.radam import RAdam, AdamW\n",
    "from optimizers.sgd_adaptive3 import *\n",
    "from optimizers.SRAdamW import *\n",
    "from optimizers.SRRAdam import *\n",
    "\n",
    "from tensorboardX import SummaryWriter\n",
    "\n",
    "from IPython.core.debugger import Tracer"
   ]
  },
  {
   "cell_type": "code",
   "execution_count": 2,
   "metadata": {},
   "outputs": [],
   "source": [
    "model_names = sorted(name for name in models.__dict__\n",
    "    if name.islower() and not name.startswith(\"__\")\n",
    "    and callable(models.__dict__[name]))"
   ]
  },
  {
   "cell_type": "code",
   "execution_count": 3,
   "metadata": {},
   "outputs": [],
   "source": [
    "class Options:\n",
    "    def __init__(self):\n",
    "        # Datasets\n",
    "        self.dataset = 'cifar10'\n",
    "        self.workers = 4\n",
    "        # Optimization options\n",
    "        self.train_batch = 128\n",
    "        self.test_batch = 20\n",
    "        # Checkpoints\n",
    "        self.checkpoint = 'momentum-analysis'\n",
    "        self.resume = '/tanresults3/experiments-momentum/cifar10-momentumnet_learned_scalar290-bottleneck--wd-5e-4-sgd-lr-0-1-gamma-0-1-stepsize-2.0-mom-0.1-seed-0/model_best.pth.tar'\n",
    "        #self.resume = '/tanstorage/results_restarting/cifar10-preresnet290-bottleneck-wd-5e-4-sgd-lr-0-1-gamma-0-1-lrdrop3-scheme1-n-50-seed-0/model_best.pth.tar'\n",
    "        # Architecture\n",
    "        self.arch = 'momentumnet_learned_scalar'\n",
    "        #self.arch = 'preresnet'\n",
    "        self.depth = 290\n",
    "        self.block_name = \"bottleneck\"\n",
    "        self.gpu_id = '1'\n",
    "        # Momentum\n",
    "        self.step_size = 2.0\n",
    "        self.momentum_const = 0.1\n",
    "        self.feature_vec = 'x'\n",
    "        \n",
    "args = Options()\n",
    "# Use CUDA\n",
    "os.environ['CUDA_VISIBLE_DEVICES'] = args.gpu_id\n",
    "use_cuda = torch.cuda.is_available()"
   ]
  },
  {
   "cell_type": "code",
   "execution_count": 4,
   "metadata": {},
   "outputs": [
    {
     "name": "stdout",
     "output_type": "stream",
     "text": [
      "Files already downloaded and verified\n"
     ]
    }
   ],
   "source": [
    "transform_train = transforms.Compose([\n",
    "    transforms.RandomCrop(32, padding=4),\n",
    "    transforms.RandomHorizontalFlip(),\n",
    "    transforms.ToTensor(),\n",
    "    transforms.Normalize((0.4914, 0.4822, 0.4465), (0.2023, 0.1994, 0.2010)),\n",
    "])\n",
    "\n",
    "transform_test = transforms.Compose([\n",
    "    transforms.ToTensor(),\n",
    "    transforms.Normalize((0.4914, 0.4822, 0.4465), (0.2023, 0.1994, 0.2010)),\n",
    "])\n",
    "\n",
    "if args.dataset == 'cifar10':\n",
    "    dataloader = datasets.CIFAR10\n",
    "    num_classes = 10\n",
    "else:\n",
    "    dataloader = datasets.CIFAR100\n",
    "    num_classes = 100\n",
    "\n",
    "\n",
    "trainset = dataloader(root='./data', train=True, download=True, transform=transform_train)\n",
    "trainloader = data.DataLoader(trainset, batch_size=args.train_batch, shuffle=True, num_workers=args.workers)\n",
    "\n",
    "testset = dataloader(root='./data', train=False, download=False, transform=transform_test)\n",
    "testloader = data.DataLoader(testset, batch_size=args.test_batch, shuffle=False, num_workers=args.workers)"
   ]
  },
  {
   "cell_type": "code",
   "execution_count": 5,
   "metadata": {},
   "outputs": [
    {
     "name": "stdout",
     "output_type": "stream",
     "text": [
      "==> creating model 'momentumnet_learned_scalar'\n",
      "    Total params: 3.00M\n"
     ]
    }
   ],
   "source": [
    "# Model\n",
    "print(\"==> creating model '{}'\".format(args.arch))\n",
    "\n",
    "criterion = nn.CrossEntropyLoss()\n",
    "\n",
    "if args.arch.startswith('resnext'):\n",
    "    model = models.__dict__[args.arch](\n",
    "                cardinality=args.cardinality,\n",
    "                num_classes=num_classes,\n",
    "                depth=args.depth,\n",
    "                widen_factor=args.widen_factor,\n",
    "                dropRate=args.drop,\n",
    "            )\n",
    "elif args.arch.startswith('densenet'):\n",
    "    model = models.__dict__[args.arch](\n",
    "                num_classes=num_classes,\n",
    "                depth=args.depth,\n",
    "                growthRate=args.growthRate,\n",
    "                compressionRate=args.compressionRate,\n",
    "                dropRate=args.drop,\n",
    "            )\n",
    "elif args.arch.startswith('wrn'):\n",
    "    model = models.__dict__[args.arch](\n",
    "                num_classes=num_classes,\n",
    "                depth=args.depth,\n",
    "                widen_factor=args.widen_factor,\n",
    "                dropRate=args.drop,\n",
    "            )\n",
    "elif args.arch.startswith('resnet'):\n",
    "    model = models.__dict__[args.arch](\n",
    "                num_classes=num_classes,\n",
    "                depth=args.depth,\n",
    "                block_name=args.block_name,\n",
    "            )\n",
    "elif args.arch.startswith('preresnet'):\n",
    "    model = models.__dict__[args.arch](\n",
    "                num_classes=num_classes,\n",
    "                depth=args.depth,\n",
    "                block_name=args.block_name,\n",
    "            )\n",
    "elif args.arch.startswith('horesnet'):\n",
    "    model = models.__dict__[args.arch](\n",
    "                num_classes=num_classes,\n",
    "                depth=args.depth,\n",
    "                eta=args.eta,\n",
    "                block_name=args.block_name,\n",
    "                feature_vec=args.feature_vec\n",
    "            )\n",
    "elif args.arch.startswith('hopreresnet'):\n",
    "    model = models.__dict__[args.arch](\n",
    "                num_classes=num_classes,\n",
    "                depth=args.depth,\n",
    "                eta=args.eta,\n",
    "                block_name=args.block_name,\n",
    "                feature_vec=args.feature_vec\n",
    "            )\n",
    "elif args.arch.startswith('nagpreresnet'):\n",
    "    model = models.__dict__[args.arch](\n",
    "                num_classes=num_classes,\n",
    "                depth=args.depth,\n",
    "                eta=args.eta,\n",
    "                block_name=args.block_name,\n",
    "                feature_vec=args.feature_vec\n",
    "            )\n",
    "elif args.arch.startswith('mompreresnet'):\n",
    "    model = models.__dict__[args.arch](\n",
    "                num_classes=num_classes,\n",
    "                depth=args.depth,\n",
    "                eta=args.eta,\n",
    "                block_name=args.block_name,\n",
    "                feature_vec=args.feature_vec\n",
    "            )\n",
    "elif args.arch.startswith('momentumnet'):\n",
    "    model = models.__dict__[args.arch](\n",
    "                num_classes=num_classes,\n",
    "                depth=args.depth,\n",
    "                step_size=args.step_size, \n",
    "                momentum=args.momentum_const,\n",
    "                block_name=args.block_name,\n",
    "                feature_vec=args.feature_vec\n",
    "            )\n",
    "elif args.arch.startswith('v2_preresnet'):\n",
    "    if args.depth == 18:\n",
    "        block_name = 'basicblock'\n",
    "        num_blocks=[2,2,2,2]\n",
    "    elif args.depth == 34:\n",
    "        block_name = 'basicblock'\n",
    "        num_blocks=[3,4,6,3]\n",
    "    elif args.depth == 50:\n",
    "        block_name = 'bottleneck'\n",
    "        num_blocks=[3,4,6,3]\n",
    "    elif args.depth == 101:\n",
    "        block_name = 'bottleneck'\n",
    "        num_blocks=[3,4,23,3]\n",
    "    elif args.depth == 152:\n",
    "        block_name = 'bottleneck'\n",
    "        num_blocks=[3,8,36,3]\n",
    "\n",
    "    model = models.__dict__[args.arch](\n",
    "                block_name=block_name, \n",
    "                num_blocks=num_blocks, \n",
    "                num_classes=num_classes\n",
    "            )\n",
    "else:\n",
    "    print('Model is specified wrongly - Use standard model')\n",
    "    model = models.__dict__[args.arch](num_classes=num_classes)\n",
    "\n",
    "model = torch.nn.DataParallel(model).cuda()\n",
    "cudnn.benchmark = True\n",
    "print('    Total params: %.2fM' % (sum(p.numel() for p in model.parameters())/1000000.0))"
   ]
  },
  {
   "cell_type": "code",
   "execution_count": 6,
   "metadata": {},
   "outputs": [
    {
     "name": "stdout",
     "output_type": "stream",
     "text": [
      "==> Resuming from checkpoint..\n"
     ]
    },
    {
     "data": {
      "text/plain": [
       "<All keys matched successfully>"
      ]
     },
     "execution_count": 6,
     "metadata": {},
     "output_type": "execute_result"
    }
   ],
   "source": [
    "# Load checkpoint.\n",
    "print('==> Resuming from checkpoint..')\n",
    "assert os.path.isfile(args.resume), 'Error: no checkpoint directory found!'\n",
    "checkpoint = torch.load(args.resume)\n",
    "best_acc = checkpoint['best_acc']\n",
    "start_epoch = checkpoint['epoch']\n",
    "model.load_state_dict(checkpoint['state_dict'])"
   ]
  },
  {
   "cell_type": "code",
   "execution_count": 7,
   "metadata": {},
   "outputs": [],
   "source": [
    "def test(testloader, model, criterion, epoch, use_cuda):\n",
    "    batch_time = AverageMeter()\n",
    "    data_time = AverageMeter()\n",
    "    losses = AverageMeter()\n",
    "    top1 = AverageMeter()\n",
    "    top5 = AverageMeter()\n",
    "\n",
    "    # switch to evaluate mode\n",
    "    model.eval()\n",
    "\n",
    "    end = time.time()\n",
    "    bar = Bar('Processing', max=len(testloader))\n",
    "    for batch_idx, (inputs, targets) in enumerate(testloader):\n",
    "        # measure data loading time\n",
    "        data_time.update(time.time() - end)\n",
    "\n",
    "        if use_cuda:\n",
    "            inputs, targets = inputs.cuda(), targets.cuda()\n",
    "        inputs, targets = torch.autograd.Variable(inputs, volatile=True), torch.autograd.Variable(targets)\n",
    "\n",
    "        # compute output\n",
    "        outputs = model(inputs)\n",
    "        loss = criterion(outputs, targets)\n",
    "\n",
    "        # measure accuracy and record loss\n",
    "        prec1, prec5 = accuracy(outputs.data, targets.data, topk=(1, 5))\n",
    "        losses.update(loss.item(), inputs.size(0))\n",
    "        top1.update(prec1.item(), inputs.size(0))\n",
    "        top5.update(prec5.item(), inputs.size(0))\n",
    "\n",
    "        # measure elapsed time\n",
    "        batch_time.update(time.time() - end)\n",
    "        end = time.time()\n",
    "\n",
    "        # plot progress\n",
    "        bar.suffix  = '(Epoch {epoch}, {batch}/{size}) Data: {data:.3f}s | Batch: {bt:.3f}s | Total: {total:} | ETA: {eta:} | Loss: {loss:.4f} | top1: {top1: .4f} | top5: {top5: .4f}'.format(\n",
    "                    epoch=epoch,\n",
    "                    batch=batch_idx + 1,\n",
    "                    size=len(testloader),\n",
    "                    data=data_time.avg,\n",
    "                    bt=batch_time.avg,\n",
    "                    total=bar.elapsed_td,\n",
    "                    eta=bar.eta_td,\n",
    "                    loss=losses.avg,\n",
    "                    top1=top1.avg,\n",
    "                    top5=top5.avg,\n",
    "                    )\n",
    "        bar.next()\n",
    "    bar.finish()\n",
    "    return (losses.avg, top1.avg)"
   ]
  },
  {
   "cell_type": "code",
   "execution_count": 8,
   "metadata": {},
   "outputs": [
    {
     "name": "stdout",
     "output_type": "stream",
     "text": [
      "\n",
      "Evaluation only\n"
     ]
    },
    {
     "name": "stderr",
     "output_type": "stream",
     "text": [
      "/opt/conda/lib/python3.6/site-packages/ipykernel_launcher.py:19: UserWarning: volatile was removed and now has no effect. Use `with torch.no_grad():` instead.\n"
     ]
    },
    {
     "name": "stdout",
     "output_type": "stream",
     "text": [
      " Test Loss:  0.00156915, Test Acc:  100.00\n"
     ]
    }
   ],
   "source": [
    "print('\\nEvaluation only')\n",
    "test_loss, test_acc = test(trainloader, model, criterion, start_epoch, use_cuda)\n",
    "print(' Test Loss:  %.8f, Test Acc:  %.2f' % (test_loss, test_acc))"
   ]
  },
  {
   "cell_type": "code",
   "execution_count": 9,
   "metadata": {},
   "outputs": [],
   "source": [
    "norms = model.module.get_norm()\n",
    "nblocks = len(norms)\n",
    "for i in range(nblocks):\n",
    "    norms[i] = norms[i].cpu().numpy()\n",
    "np.save('./norms_momentum.npy',norms)"
   ]
  },
  {
   "cell_type": "code",
   "execution_count": 10,
   "metadata": {},
   "outputs": [
    {
     "name": "stdout",
     "output_type": "stream",
     "text": [
      "number of blocks = 96\n"
     ]
    },
    {
     "data": {
      "image/png": "[encoded data removed]",
      "text/plain": [
       "<Figure size 432x288 with 1 Axes>"
      ]
     },
     "metadata": {
      "needs_background": "light"
     },
     "output_type": "display_data"
    }
   ],
   "source": [
    "norms_mom = np.load('./norms_momentum.npy')\n",
    "norms_res = np.load('./norms_resnet.npy')\n",
    "nblocks = len(norms_mom)\n",
    "print('number of blocks = %i'%nblocks)\n",
    "blockid = list(range(nblocks))\n",
    "\n",
    "fig, ax = plt.subplots()\n",
    "# ax.plot(m, acc_x_vx, label='use x, v0=x')\n",
    "# ax.plot(m, acc_v_vx, label='use v, v0=x')\n",
    "ax.plot(blockid, norms_mom, 'b-', label='momentumnet')\n",
    "ax.plot(blockid, norms_res, 'r-', label='resnet')\n",
    "for i,j in zip(blockid, norms_mom):\n",
    "    if i in [32, 64]:\n",
    "        ax.annotate(str('block %i'%i),xy=(i,j))\n",
    "#ax.plot(m, acc_v_v0, '-o', label='use v, v0=0')\n",
    "ax.grid()\n",
    "ax.legend(loc='upper left')\n",
    "fig.show()\n",
    "fig.savefig('./figures/norm_acts.pdf')"
   ]
  },
  {
   "cell_type": "code",
   "execution_count": 2,
   "metadata": {},
   "outputs": [],
   "source": [
    "import json"
   ]
  },
  {
   "cell_type": "code",
   "execution_count": 3,
   "metadata": {},
   "outputs": [],
   "source": [
    "def get_tensorboard_val(filename):\n",
    "    with open(filename) as jfile:\n",
    "        dat = json.load(jfile)\n",
    "    epochs = []\n",
    "    vals = []\n",
    "    for i in range(len(dat)):\n",
    "        epochs.append(dat[i][1])\n",
    "        vals.append(dat[i][2])\n",
    "    return epochs, vals"
   ]
  },
  {
   "cell_type": "code",
   "execution_count": null,
   "metadata": {},
   "outputs": [],
   "source": [
    "filename_mom = './run-momentumnet_train_loss_momentumnet_learned_scalar-tag-train_loss.json'\n",
    "filename_res = './run-resnet_train_loss_preresnet20_srsgd-tag-train_loss.json'\n",
    "\n",
    "epochs, vals_res = get_tensorboard_val(filename_res)\n",
    "epochs, vals_mom = get_tensorboard_val(filename_mom)\n",
    "\n",
    "epochs = epochs[-199:]\n",
    "vals_mom = vals_mom[-199:]\n",
    "vals_res = vals_res[-199:]\n",
    "\n",
    "fig, ax = plt.subplots()\n",
    "# ax.plot(m, acc_x_vx, label='use x, v0=x')\n",
    "# ax.plot(m, acc_v_vx, label='use v, v0=x')\n",
    "ax.plot(epochs, vals_mom, 'b-', label='momentumnet')\n",
    "ax.plot(epochs, vals_res, 'r-', label='resnet')\n",
    "ax.set(yscale=\"log\")\n",
    "#ax.plot(m, acc_v_v0, '-o', label='use v, v0=0')\n",
    "ax.grid()\n",
    "ax.legend(loc='upper left')\n",
    "fig.show()\n",
    "fig.savefig('./figures/train_loss_momentumnet.pdf')"
   ]
  },
  {
   "cell_type": "code",
   "execution_count": null,
   "metadata": {},
   "outputs": [],
   "source": [
    "filename_mom = './run-momentumnet_test_acc_momentumnet_learned_scalar-tag-test_acc.json'\n",
    "filename_res = './run-resnet_test_acc_preresnet20_srsgd-tag-test_acc.json'\n",
    "\n",
    "epochs, vals_res = get_tensorboard_val(filename_res)\n",
    "epochs, vals_mom = get_tensorboard_val(filename_mom)\n",
    "\n",
    "epochs = epochs[-199::]\n",
    "vals_mom = vals_mom[-199::]\n",
    "vals_res = vals_res[-199::]\n",
    "\n",
    "fig, ax = plt.subplots()\n",
    "# ax.plot(m, acc_x_vx, label='use x, v0=x')\n",
    "# ax.plot(m, acc_v_vx, label='use v, v0=x')\n",
    "ax.plot(epochs, vals_mom, 'b-', label='momentumnet')\n",
    "ax.plot(epochs, vals_res, 'r-', label='resnet')\n",
    "#ax.set(yscale=\"log\")\n",
    "#ax.plot(m, acc_v_v0, '-o', label='use v, v0=0')\n",
    "ax.grid()\n",
    "ax.legend(loc='upper left')\n",
    "fig.show()\n",
    "fig.savefig('./figures/test_acc_momentumnet.pdf')"
   ]
  },
  {
   "cell_type": "code",
   "execution_count": null,
   "metadata": {},
   "outputs": [],
   "source": [
    "filename_srsgd = './run-cifar10_resnet290_srsgd_lin_0_train_loss_preresnet20_srsgd-tag-train_loss.json'\n",
    "filename_sgd = './run-resnet_train_loss_preresnet20_srsgd-tag-train_loss.json'\n",
    "\n",
    "epochs, vals_sgd = get_tensorboard_val(filename_sgd)\n",
    "epochs, vals_srsgd = get_tensorboard_val(filename_srsgd)\n",
    "\n",
    "epochs = epochs[-199:]\n",
    "vals_srsgd = vals_srsgd[-199:]\n",
    "vals_sgd = vals_sgd[-199:]\n",
    "\n",
    "fig, ax = plt.subplots()\n",
    "# ax.plot(m, acc_x_vx, label='use x, v0=x')\n",
    "# ax.plot(m, acc_v_vx, label='use v, v0=x')\n",
    "ax.plot(epochs, vals_srsgd, 'b-', label='SRSGD')\n",
    "ax.plot(epochs, vals_sgd, 'r-', label='SGD')\n",
    "ax.set(yscale=\"log\")\n",
    "#ax.plot(m, acc_v_v0, '-o', label='use v, v0=0')\n",
    "ax.grid()\n",
    "ax.legend(loc='upper left')\n",
    "fig.show()\n",
    "fig.savefig('./figures/train_loss_srsgd.pdf')"
   ]
  },
  {
   "cell_type": "code",
   "execution_count": null,
   "metadata": {},
   "outputs": [],
   "source": [
    "filename_srsgd = './run-imagenet_resnet101_const_40_srsgd_0_train_loss_resnet101_srsgd-tag-train_loss.json'\n",
    "filename_sgd = './run-imagenet_resnet101_basline_sgd_0_train_loss_resnet101_srsgd-tag-train_loss.json'\n",
    "\n",
    "epochs, vals_sgd = get_tensorboard_val(filename_sgd)\n",
    "epochs, vals_srsgd = get_tensorboard_val(filename_srsgd)\n",
    "\n",
    "epochs = epochs[-89:]\n",
    "vals_srsgd = vals_srsgd[-89:]\n",
    "vals_sgd = vals_sgd[-89:]\n",
    "\n",
    "fig, ax = plt.subplots()\n",
    "# ax.plot(m, acc_x_vx, label='use x, v0=x')\n",
    "# ax.plot(m, acc_v_vx, label='use v, v0=x')\n",
    "ax.plot(epochs, vals_srsgd, 'b-', label='SRSGD')\n",
    "ax.plot(epochs, vals_sgd, 'r-', label='SGD')\n",
    "ax.set(yscale=\"log\")\n",
    "#ax.plot(m, acc_v_v0, '-o', label='use v, v0=0')\n",
    "ax.grid()\n",
    "ax.legend(loc='upper left')\n",
    "fig.show()\n",
    "fig.savefig('./figures/train_loss_srsgd_imagenet.pdf')"
   ]
  },
  {
   "cell_type": "code",
   "execution_count": 20,
   "metadata": {},
   "outputs": [
    {
     "data": {
      "image/png": "[encoded data removed]",
      "text/plain": [
       "<Figure size 432x288 with 1 Axes>"
      ]
     },
     "metadata": {
      "needs_background": "light"
     },
     "output_type": "display_data"
    }
   ],
   "source": [
    "filename_srsgd = './run-iwslt14_srsgd_N_700_fixed_decay_lr_0_003_0_valid-tag-ppl.json'\n",
    "filename_sgd = './run-iwslt14_nag_fixed_decay_lr_0_003_0_valid-tag-ppl.json'\n",
    "filename_adam = './run-iwslt14_basline_0_valid-tag-ppl.json'\n",
    "\n",
    "epochs, vals_adam = get_tensorboard_val(filename_adam)\n",
    "epochs, vals_sgd = get_tensorboard_val(filename_sgd)\n",
    "epochs, vals_srsgd = get_tensorboard_val(filename_srsgd)\n",
    "\n",
    "# epochs = epochs[-89:]\n",
    "# vals_srsgd = vals_srsgd[-89:]\n",
    "# vals_sgd = vals_sgd[-89:]\n",
    "\n",
    "fig, ax = plt.subplots()\n",
    "# ax.plot(m, acc_x_vx, label='use x, v0=x')\n",
    "# ax.plot(m, acc_v_vx, label='use v, v0=x')\n",
    "ax.plot(epochs, vals_srsgd, 'b-', label='SRSGD')\n",
    "ax.plot(epochs, vals_sgd, 'r-', label='SGD')\n",
    "ax.plot(epochs, vals_adam, 'g-', label='Adam')\n",
    "ax.set(yscale=\"log\")\n",
    "#ax.plot(m, acc_v_v0, '-o', label='use v, v0=0')\n",
    "ax.grid()\n",
    "ax.legend(loc='upper left')\n",
    "fig.show()\n",
    "fig.savefig('./figures/val_ppl_srsgd_nmt.pdf')"
   ]
  },
  {
   "cell_type": "code",
   "execution_count": 21,
   "metadata": {},
   "outputs": [
    {
     "data": {
      "image/png": "[encoded data removed]",
      "text/plain": [
       "<Figure size 432x288 with 1 Axes>"
      ]
     },
     "metadata": {
      "needs_background": "light"
     },
     "output_type": "display_data"
    }
   ],
   "source": [
    "filename_srsgd = './run-iwslt14_srsgd_N_700_fixed_decay_lr_0_003_0_train-tag-loss.json'\n",
    "filename_sgd = './run-iwslt14_nag_fixed_decay_lr_0_003_0_train-tag-loss.json'\n",
    "filename_adam = './run-iwslt14_basline_0_train-tag-loss.json'\n",
    "\n",
    "epochs, vals_adam = get_tensorboard_val(filename_adam)\n",
    "epochs, vals_sgd = get_tensorboard_val(filename_sgd)\n",
    "epochs, vals_srsgd = get_tensorboard_val(filename_srsgd)\n",
    "\n",
    "# epochs = epochs[-89:]\n",
    "# vals_srsgd = vals_srsgd[-89:]\n",
    "# vals_sgd = vals_sgd[-89:]\n",
    "\n",
    "fig, ax = plt.subplots()\n",
    "# ax.plot(m, acc_x_vx, label='use x, v0=x')\n",
    "# ax.plot(m, acc_v_vx, label='use v, v0=x')\n",
    "ax.plot(epochs, vals_srsgd, 'b-', label='SRSGD')\n",
    "ax.plot(epochs, vals_sgd, 'r-', label='SGD')\n",
    "ax.plot(epochs, vals_adam, 'g-', label='Adam')\n",
    "ax.set(yscale=\"log\")\n",
    "#ax.plot(m, acc_v_v0, '-o', label='use v, v0=0')\n",
    "ax.grid()\n",
    "ax.legend(loc='upper left')\n",
    "fig.show()\n",
    "fig.savefig('./figures/train_loss_srsgd_nmt.pdf')"
   ]
  },
  {
   "cell_type": "code",
   "execution_count": 4,
   "metadata": {},
   "outputs": [
    {
     "ename": "ValueError",
     "evalue": "x and y must have same first dimension, but have shapes (51,) and (49,)",
     "output_type": "error",
     "traceback": [
      "\u001b[0;31m---------------------------------------------------------------------------\u001b[0m",
      "\u001b[0;31mValueError\u001b[0m                                Traceback (most recent call last)",
      "\u001b[0;32m<ipython-input-4-4fa3dacb6b00>\u001b[0m in \u001b[0;36m<module>\u001b[0;34m\u001b[0m\n\u001b[1;32m     14\u001b[0m \u001b[0;31m# ax.plot(m, acc_x_vx, label='use x, v0=x')\u001b[0m\u001b[0;34m\u001b[0m\u001b[0;34m\u001b[0m\u001b[0;34m\u001b[0m\u001b[0m\n\u001b[1;32m     15\u001b[0m \u001b[0;31m# ax.plot(m, acc_v_vx, label='use v, v0=x')\u001b[0m\u001b[0;34m\u001b[0m\u001b[0;34m\u001b[0m\u001b[0;34m\u001b[0m\u001b[0m\n\u001b[0;32m---> 16\u001b[0;31m \u001b[0max\u001b[0m\u001b[0;34m.\u001b[0m\u001b[0mplot\u001b[0m\u001b[0;34m(\u001b[0m\u001b[0mepochs\u001b[0m\u001b[0;34m,\u001b[0m \u001b[0mvals_srsgd_lin\u001b[0m\u001b[0;34m,\u001b[0m \u001b[0;34m'b-'\u001b[0m\u001b[0;34m,\u001b[0m \u001b[0mlabel\u001b[0m\u001b[0;34m=\u001b[0m\u001b[0;34m'SRSGD-linear'\u001b[0m\u001b[0;34m)\u001b[0m\u001b[0;34m\u001b[0m\u001b[0;34m\u001b[0m\u001b[0m\n\u001b[0m\u001b[1;32m     17\u001b[0m \u001b[0max\u001b[0m\u001b[0;34m.\u001b[0m\u001b[0mplot\u001b[0m\u001b[0;34m(\u001b[0m\u001b[0mepochs\u001b[0m\u001b[0;34m,\u001b[0m \u001b[0mvals_sgd\u001b[0m\u001b[0;34m,\u001b[0m \u001b[0;34m'r-'\u001b[0m\u001b[0;34m,\u001b[0m \u001b[0mlabel\u001b[0m\u001b[0;34m=\u001b[0m\u001b[0;34m'SGD'\u001b[0m\u001b[0;34m)\u001b[0m\u001b[0;34m\u001b[0m\u001b[0;34m\u001b[0m\u001b[0m\n\u001b[1;32m     18\u001b[0m \u001b[0max\u001b[0m\u001b[0;34m.\u001b[0m\u001b[0mplot\u001b[0m\u001b[0;34m(\u001b[0m\u001b[0mepochs\u001b[0m\u001b[0;34m,\u001b[0m \u001b[0mvals_srsgd_exp\u001b[0m\u001b[0;34m,\u001b[0m \u001b[0;34m'g-'\u001b[0m\u001b[0;34m,\u001b[0m \u001b[0mlabel\u001b[0m\u001b[0;34m=\u001b[0m\u001b[0;34m'SRSGD-exponential'\u001b[0m\u001b[0;34m)\u001b[0m\u001b[0;34m\u001b[0m\u001b[0;34m\u001b[0m\u001b[0m\n",
      "\u001b[0;32m/opt/conda/lib/python3.6/site-packages/matplotlib/axes/_axes.py\u001b[0m in \u001b[0;36mplot\u001b[0;34m(self, scalex, scaley, data, *args, **kwargs)\u001b[0m\n\u001b[1;32m   1664\u001b[0m         \"\"\"\n\u001b[1;32m   1665\u001b[0m         \u001b[0mkwargs\u001b[0m \u001b[0;34m=\u001b[0m \u001b[0mcbook\u001b[0m\u001b[0;34m.\u001b[0m\u001b[0mnormalize_kwargs\u001b[0m\u001b[0;34m(\u001b[0m\u001b[0mkwargs\u001b[0m\u001b[0;34m,\u001b[0m \u001b[0mmlines\u001b[0m\u001b[0;34m.\u001b[0m\u001b[0mLine2D\u001b[0m\u001b[0;34m.\u001b[0m\u001b[0m_alias_map\u001b[0m\u001b[0;34m)\u001b[0m\u001b[0;34m\u001b[0m\u001b[0;34m\u001b[0m\u001b[0m\n\u001b[0;32m-> 1666\u001b[0;31m         \u001b[0mlines\u001b[0m \u001b[0;34m=\u001b[0m \u001b[0;34m[\u001b[0m\u001b[0;34m*\u001b[0m\u001b[0mself\u001b[0m\u001b[0;34m.\u001b[0m\u001b[0m_get_lines\u001b[0m\u001b[0;34m(\u001b[0m\u001b[0;34m*\u001b[0m\u001b[0margs\u001b[0m\u001b[0;34m,\u001b[0m \u001b[0mdata\u001b[0m\u001b[0;34m=\u001b[0m\u001b[0mdata\u001b[0m\u001b[0;34m,\u001b[0m \u001b[0;34m**\u001b[0m\u001b[0mkwargs\u001b[0m\u001b[0;34m)\u001b[0m\u001b[0;34m]\u001b[0m\u001b[0;34m\u001b[0m\u001b[0;34m\u001b[0m\u001b[0m\n\u001b[0m\u001b[1;32m   1667\u001b[0m         \u001b[0;32mfor\u001b[0m \u001b[0mline\u001b[0m \u001b[0;32min\u001b[0m \u001b[0mlines\u001b[0m\u001b[0;34m:\u001b[0m\u001b[0;34m\u001b[0m\u001b[0;34m\u001b[0m\u001b[0m\n\u001b[1;32m   1668\u001b[0m             \u001b[0mself\u001b[0m\u001b[0;34m.\u001b[0m\u001b[0madd_line\u001b[0m\u001b[0;34m(\u001b[0m\u001b[0mline\u001b[0m\u001b[0;34m)\u001b[0m\u001b[0;34m\u001b[0m\u001b[0;34m\u001b[0m\u001b[0m\n",
      "\u001b[0;32m/opt/conda/lib/python3.6/site-packages/matplotlib/axes/_base.py\u001b[0m in \u001b[0;36m__call__\u001b[0;34m(self, *args, **kwargs)\u001b[0m\n\u001b[1;32m    223\u001b[0m                 \u001b[0mthis\u001b[0m \u001b[0;34m+=\u001b[0m \u001b[0margs\u001b[0m\u001b[0;34m[\u001b[0m\u001b[0;36m0\u001b[0m\u001b[0;34m]\u001b[0m\u001b[0;34m,\u001b[0m\u001b[0;34m\u001b[0m\u001b[0;34m\u001b[0m\u001b[0m\n\u001b[1;32m    224\u001b[0m                 \u001b[0margs\u001b[0m \u001b[0;34m=\u001b[0m \u001b[0margs\u001b[0m\u001b[0;34m[\u001b[0m\u001b[0;36m1\u001b[0m\u001b[0;34m:\u001b[0m\u001b[0;34m]\u001b[0m\u001b[0;34m\u001b[0m\u001b[0;34m\u001b[0m\u001b[0m\n\u001b[0;32m--> 225\u001b[0;31m             \u001b[0;32myield\u001b[0m \u001b[0;32mfrom\u001b[0m \u001b[0mself\u001b[0m\u001b[0;34m.\u001b[0m\u001b[0m_plot_args\u001b[0m\u001b[0;34m(\u001b[0m\u001b[0mthis\u001b[0m\u001b[0;34m,\u001b[0m \u001b[0mkwargs\u001b[0m\u001b[0;34m)\u001b[0m\u001b[0;34m\u001b[0m\u001b[0;34m\u001b[0m\u001b[0m\n\u001b[0m\u001b[1;32m    226\u001b[0m \u001b[0;34m\u001b[0m\u001b[0m\n\u001b[1;32m    227\u001b[0m     \u001b[0;32mdef\u001b[0m \u001b[0mget_next_color\u001b[0m\u001b[0;34m(\u001b[0m\u001b[0mself\u001b[0m\u001b[0;34m)\u001b[0m\u001b[0;34m:\u001b[0m\u001b[0;34m\u001b[0m\u001b[0;34m\u001b[0m\u001b[0m\n",
      "\u001b[0;32m/opt/conda/lib/python3.6/site-packages/matplotlib/axes/_base.py\u001b[0m in \u001b[0;36m_plot_args\u001b[0;34m(self, tup, kwargs)\u001b[0m\n\u001b[1;32m    389\u001b[0m             \u001b[0mx\u001b[0m\u001b[0;34m,\u001b[0m \u001b[0my\u001b[0m \u001b[0;34m=\u001b[0m \u001b[0mindex_of\u001b[0m\u001b[0;34m(\u001b[0m\u001b[0mtup\u001b[0m\u001b[0;34m[\u001b[0m\u001b[0;34m-\u001b[0m\u001b[0;36m1\u001b[0m\u001b[0;34m]\u001b[0m\u001b[0;34m)\u001b[0m\u001b[0;34m\u001b[0m\u001b[0;34m\u001b[0m\u001b[0m\n\u001b[1;32m    390\u001b[0m \u001b[0;34m\u001b[0m\u001b[0m\n\u001b[0;32m--> 391\u001b[0;31m         \u001b[0mx\u001b[0m\u001b[0;34m,\u001b[0m \u001b[0my\u001b[0m \u001b[0;34m=\u001b[0m \u001b[0mself\u001b[0m\u001b[0;34m.\u001b[0m\u001b[0m_xy_from_xy\u001b[0m\u001b[0;34m(\u001b[0m\u001b[0mx\u001b[0m\u001b[0;34m,\u001b[0m \u001b[0my\u001b[0m\u001b[0;34m)\u001b[0m\u001b[0;34m\u001b[0m\u001b[0;34m\u001b[0m\u001b[0m\n\u001b[0m\u001b[1;32m    392\u001b[0m \u001b[0;34m\u001b[0m\u001b[0m\n\u001b[1;32m    393\u001b[0m         \u001b[0;32mif\u001b[0m \u001b[0mself\u001b[0m\u001b[0;34m.\u001b[0m\u001b[0mcommand\u001b[0m \u001b[0;34m==\u001b[0m \u001b[0;34m'plot'\u001b[0m\u001b[0;34m:\u001b[0m\u001b[0;34m\u001b[0m\u001b[0;34m\u001b[0m\u001b[0m\n",
      "\u001b[0;32m/opt/conda/lib/python3.6/site-packages/matplotlib/axes/_base.py\u001b[0m in \u001b[0;36m_xy_from_xy\u001b[0;34m(self, x, y)\u001b[0m\n\u001b[1;32m    268\u001b[0m         \u001b[0;32mif\u001b[0m \u001b[0mx\u001b[0m\u001b[0;34m.\u001b[0m\u001b[0mshape\u001b[0m\u001b[0;34m[\u001b[0m\u001b[0;36m0\u001b[0m\u001b[0;34m]\u001b[0m \u001b[0;34m!=\u001b[0m \u001b[0my\u001b[0m\u001b[0;34m.\u001b[0m\u001b[0mshape\u001b[0m\u001b[0;34m[\u001b[0m\u001b[0;36m0\u001b[0m\u001b[0;34m]\u001b[0m\u001b[0;34m:\u001b[0m\u001b[0;34m\u001b[0m\u001b[0;34m\u001b[0m\u001b[0m\n\u001b[1;32m    269\u001b[0m             raise ValueError(\"x and y must have same first dimension, but \"\n\u001b[0;32m--> 270\u001b[0;31m                              \"have shapes {} and {}\".format(x.shape, y.shape))\n\u001b[0m\u001b[1;32m    271\u001b[0m         \u001b[0;32mif\u001b[0m \u001b[0mx\u001b[0m\u001b[0;34m.\u001b[0m\u001b[0mndim\u001b[0m \u001b[0;34m>\u001b[0m \u001b[0;36m2\u001b[0m \u001b[0;32mor\u001b[0m \u001b[0my\u001b[0m\u001b[0;34m.\u001b[0m\u001b[0mndim\u001b[0m \u001b[0;34m>\u001b[0m \u001b[0;36m2\u001b[0m\u001b[0;34m:\u001b[0m\u001b[0;34m\u001b[0m\u001b[0;34m\u001b[0m\u001b[0m\n\u001b[1;32m    272\u001b[0m             raise ValueError(\"x and y can be no greater than 2-D, but have \"\n",
      "\u001b[0;31mValueError\u001b[0m: x and y must have same first dimension, but have shapes (51,) and (49,)"
     ]
    },
    {
     "data": {
      "image/png": "[encoded data removed]",
      "text/plain": [
       "<Figure size 432x288 with 1 Axes>"
      ]
     },
     "metadata": {
      "needs_background": "light"
     },
     "output_type": "display_data"
    }
   ],
   "source": [
    "filename_sgd = './run-cifar10_preresnet1001_sgd_baseline_0_test_acc_preresnet20_srsgd-tag-test_acc.json'\n",
    "filename_srsgd_lin = './run-cifar10_preresnet1001_srsgd_lin_0_test_acc_preresnet20_srsgd-tag-test_acc.json'\n",
    "filename_srsgd_exp = './run-cifar10_preresnet1001_srsgd_exp_0_test_acc_preresnet20_srsgd-tag-test_acc.json'\n",
    "\n",
    "epochs, vals_sgd = get_tensorboard_val(filename_sgd)\n",
    "epochs, vals_srsgd_lin = get_tensorboard_val(filename_srsgd_lin)\n",
    "epochs, vals_srsgd_exp = get_tensorboard_val(filename_srsgd_exp)\n",
    "\n",
    "epochs = epochs[:49]\n",
    "vals_srsgd_lin = vals_srsgd[:49]\n",
    "vals_srsgd_exp = vals_srsgd[:49]\n",
    "vals_sgd = vals_sgd[:49]\n",
    "\n",
    "fig, ax = plt.subplots()\n",
    "# ax.plot(m, acc_x_vx, label='use x, v0=x')\n",
    "# ax.plot(m, acc_v_vx, label='use v, v0=x')\n",
    "ax.plot(epochs, vals_srsgd_lin, 'b-', label='SRSGD-linear')\n",
    "ax.plot(epochs, vals_sgd, 'r-', label='SGD')\n",
    "ax.plot(epochs, vals_srsgd_exp, 'g-', label='SRSGD-exponential')\n",
    "ax.set(yscale=\"log\")\n",
    "#ax.plot(m, acc_v_v0, '-o', label='use v, v0=0')\n",
    "ax.grid()\n",
    "ax.legend(loc='upper left')\n",
    "fig.show()\n",
    "fig.savefig('./figures/test_acc_srsgd_short_cifar10.pdf')"
   ]
  },
  {
   "cell_type": "code",
   "execution_count": null,
   "metadata": {},
   "outputs": [],
   "source": []
  }
 ],
 "metadata": {
  "kernelspec": {
   "display_name": "Python 3",
   "language": "python",
   "name": "python3"
  },
  "language_info": {
   "codemirror_mode": {
    "name": "ipython",
    "version": 3
   },
   "file_extension": ".py",
   "mimetype": "text/x-python",
   "name": "python",
   "nbconvert_exporter": "python",
   "pygments_lexer": "ipython3",
   "version": "3.6.9"
  }
 },
 "nbformat": 4,
 "nbformat_minor": 4
}
