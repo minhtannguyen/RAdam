{
 "cells": [
  {
   "cell_type": "code",
   "execution_count": null,
   "metadata": {},
   "outputs": [],
   "source": [
    "%run -p pre_word_ada/gene_map.py --input_folder /tanresults/datasets/1-billion-word-language-modeling-benchmark/training-monolingual.tokenized.shuffled --output_map /tanresults/datasets/1-billion-word-language-modeling-benchmark/1b_map.pk"
   ]
  },
  {
   "cell_type": "code",
   "execution_count": null,
   "metadata": {},
   "outputs": [],
   "source": [
    "%run -p pre_word_ada/encode_data2folder.py --train_folder /tanresults/datasets/billionwords/1-billion-word-language-modeling-benchmark/training-monolingual.tokenized.shuffled --test_folder /tanresults/datasets/billionwords/1-billion-word-language-modeling-benchmark/heldout-monolingual.tokenized.shuffled --input_map /tanresults/datasets/billionwords/1b_map.pk --output_folder /tanresults/datasets/billionwords/one_billion\n",
    "#\n",
    "#"
   ]
  }
 ],
 "metadata": {
  "kernelspec": {
   "display_name": "Python 3",
   "language": "python",
   "name": "python3"
  },
  "language_info": {
   "codemirror_mode": {
    "name": "ipython",
    "version": 3
   },
   "file_extension": ".py",
   "mimetype": "text/x-python",
   "name": "python",
   "nbconvert_exporter": "python",
   "pygments_lexer": "ipython3",
   "version": "3.6.7"
  }
 },
 "nbformat": 4,
 "nbformat_minor": 2
}
